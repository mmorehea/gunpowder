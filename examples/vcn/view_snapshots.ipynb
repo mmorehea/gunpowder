{
 "cells": [
  {
   "cell_type": "code",
   "execution_count": 1,
   "metadata": {},
   "outputs": [
    {
     "name": "stdout",
     "output_type": "stream",
     "text": [
      "Adding dataset snapshots/batch_00000000.hdf/volumes/labels/affs\n",
      "Adding dataset snapshots/batch_00000000.hdf/volumes/labels/neuron_ids\n",
      "Adding dataset snapshots/batch_00000000.hdf/volumes/loss_scale\n",
      "Adding dataset snapshots/batch_00000000.hdf/volumes/predicted_affs\n",
      "Adding dataset snapshots/batch_00000000.hdf/volumes/raw\n"
     ]
    },
    {
     "data": {
      "text/html": [
       "<iframe src=\"http://localhost:8888/neuroglancer#!%7B%22layers%22:%7B%22snapshots/batch_00000000.hdf/volumes/labels/affs%22:%7B%22source%22:%22python://http://localhost:8888/22dc8fe57485d653f0c5c41eb0370d1d8e3af600%22,%22type%22:%22image%22,%22shader%22:%22void%20main()%20%7B%20emitRGB(vec3(toNormalized(getDataValue(0)),toNormalized(getDataValue(1)),toNormalized(getDataValue(2))));%20%7D%22%7D,%22snapshots/batch_00000000.hdf/volumes/labels/neuron_ids%22:%7B%22source%22:%22python://http://localhost:8888/7326f5b92df1f7ce0810c6cc5d7e7828126e7f6b%22,%22type%22:%22segmentation%22%7D,%22snapshots/batch_00000000.hdf/volumes/loss_scale%22:%7B%22source%22:%22python://http://localhost:8888/e34dfc313f8a2775cd88372a24205cd06ffffd1c%22,%22type%22:%22image%22,%22shader%22:%22void%20main()%20%7B%20emitRGB(vec3(toNormalized(getDataValue(0)),toNormalized(getDataValue(1)),toNormalized(getDataValue(2))));%20%7D%22%7D,%22snapshots/batch_00000000.hdf/volumes/predicted_affs%22:%7B%22source%22:%22python://http://localhost:8888/3864fe7866a65562941add9cee062d7ecf5b3064%22,%22type%22:%22image%22,%22shader%22:%22void%20main()%20%7B%20emitRGB(vec3(toNormalized(getDataValue(0)),toNormalized(getDataValue(1)),toNormalized(getDataValue(2))));%20%7D%22%7D,%22snapshots/batch_00000000.hdf/volumes/raw%22:%7B%22source%22:%22python://http://localhost:8888/12539cdbeb8b445d7192bdfe64288c1aedd6d582%22,%22type%22:%22image%22%7D%7D%7D\" width=\"100%\" height=\"1024px\"><\\iframe>"
      ],
      "text/plain": [
       "<IPython.core.display.HTML object>"
      ]
     },
     "execution_count": 1,
     "metadata": {},
     "output_type": "execute_result"
    }
   ],
   "source": [
    "import nyroglancer\n",
    "\n",
    "viewer = nyroglancer.Hdf5Viewer('snapshots/batch_00000000.hdf')\n",
    "viewer.show()"
   ]
  },
  {
   "cell_type": "code",
   "execution_count": null,
   "metadata": {
    "collapsed": true
   },
   "outputs": [],
   "source": []
  }
 ],
 "metadata": {
  "kernelspec": {
   "display_name": "Python 2",
   "language": "python",
   "name": "python2"
  },
  "language_info": {
   "codemirror_mode": {
    "name": "ipython",
    "version": 2
   },
   "file_extension": ".py",
   "mimetype": "text/x-python",
   "name": "python",
   "nbconvert_exporter": "python",
   "pygments_lexer": "ipython2",
   "version": "2.7.13"
  }
 },
 "nbformat": 4,
 "nbformat_minor": 1
}
