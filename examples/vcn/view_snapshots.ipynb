{
 "cells": [
  {
   "cell_type": "code",
   "execution_count": 101,
   "metadata": {},
   "outputs": [
    {
     "name": "stdout",
     "output_type": "stream",
     "text": [
      "Adding dataset snapshots/batch_00000000.hdf/volumes/labels/affs\n",
      "Adding dataset snapshots/batch_00000000.hdf/volumes/labels/neuron_ids\n",
      "Adding dataset snapshots/batch_00000000.hdf/volumes/loss_scale\n",
      "Adding dataset snapshots/batch_00000000.hdf/volumes/predicted_affs\n",
      "Adding dataset snapshots/batch_00000000.hdf/volumes/raw\n"
     ]
    },
    {
     "data": {
      "text/html": [
       "<iframe src=\"http://localhost:8888/neuroglancer#!%7B%22layers%22:%7B%22snapshots/batch_00000000.hdf/volumes/labels/affs%22:%7B%22source%22:%22python://http://localhost:8888/3b0308782751cec7df51dc22e22750f63f5d395c%22,%22type%22:%22image%22,%22shader%22:%22void%20main()%20%7B%20emitRGB(vec3(toNormalized(getDataValue(0)),toNormalized(getDataValue(1)),toNormalized(getDataValue(2))));%20%7D%22%7D,%22snapshots/batch_00000000.hdf/volumes/labels/neuron_ids%22:%7B%22source%22:%22python://http://localhost:8888/2c13602dbc7fb22bbeecedae57cf9fc106e69541%22,%22type%22:%22segmentation%22%7D,%22snapshots/batch_00000000.hdf/volumes/loss_scale%22:%7B%22source%22:%22python://http://localhost:8888/c8bccea11da896738858a2810b7be2e47f4a857a%22,%22type%22:%22image%22,%22shader%22:%22void%20main()%20%7B%20emitRGB(vec3(toNormalized(getDataValue(0)),toNormalized(getDataValue(1)),toNormalized(getDataValue(2))));%20%7D%22%7D,%22snapshots/batch_00000000.hdf/volumes/predicted_affs%22:%7B%22source%22:%22python://http://localhost:8888/b3945449ae155b9000ca1ea54a2a7bd52da753da%22,%22type%22:%22image%22,%22shader%22:%22void%20main()%20%7B%20emitRGB(vec3(toNormalized(getDataValue(0)),toNormalized(getDataValue(1)),toNormalized(getDataValue(2))));%20%7D%22%7D,%22snapshots/batch_00000000.hdf/volumes/raw%22:%7B%22source%22:%22python://http://localhost:8888/ba22c12c2e9e331c78ba05bf1efa900b18879364%22,%22type%22:%22image%22%7D%7D%7D\" width=\"100%\" height=\"1024px\"><\\iframe>"
      ],
      "text/plain": [
       "<IPython.core.display.HTML object>"
      ]
     },
     "execution_count": 101,
     "metadata": {},
     "output_type": "execute_result"
    }
   ],
   "source": [
    "import nyroglancer\n",
    "\n",
    "viewer = nyroglancer.Hdf5Viewer('snapshots/batch_00000000.hdf')\n",
    "viewer.show()"
   ]
  },
  {
   "cell_type": "code",
   "execution_count": null,
   "metadata": {
    "collapsed": true
   },
   "outputs": [],
   "source": []
  }
 ],
 "metadata": {
  "kernelspec": {
   "display_name": "Python 2",
   "language": "python",
   "name": "python2"
  },
  "language_info": {
   "codemirror_mode": {
    "name": "ipython",
    "version": 2
   },
   "file_extension": ".py",
   "mimetype": "text/x-python",
   "name": "python",
   "nbconvert_exporter": "python",
   "pygments_lexer": "ipython2",
   "version": "2.7.13"
  }
 },
 "nbformat": 4,
 "nbformat_minor": 1
}
